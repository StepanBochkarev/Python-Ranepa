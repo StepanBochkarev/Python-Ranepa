{
 "cells": [
  {
   "attachments": {},
   "cell_type": "markdown",
   "id": "692c1fcd-d4f0-42f1-8d62-0ec29928ce6b",
   "metadata": {},
   "source": [
    "10. Попросите пользователя ввести целое число, превышающее 500. \n",
    "Вычислите квадратный корень из этого числа и выведите его с точностью до двух знаков посл запятой.\n",
    "\r\n"
   ]
  },
  {
   "cell_type": "code",
   "execution_count": null,
   "id": "d98050e1-71e7-430d-a834-4952c7ca4b99",
   "metadata": {},
   "outputs": [],
   "source": [
    "#Добавил в решение задачи функцию if, else для выполнения проверки числа на соответствие условию задачи \"ввести целое число, превышающее 500\"\n",
    "#При не выполнении условия код вовзращает ошибку, при выполнении условия происходит расчет корня и округление до 2-х знаков после запятой."
   ]
  },
  {
   "cell_type": "code",
   "execution_count": 7,
   "id": "b7549d1b-1707-4a14-9e2a-43b78c4de354",
   "metadata": {},
   "outputs": [
    {
     "name": "stdin",
     "output_type": "stream",
     "text": [
      "Please, enter number above 500: 1314134\n"
     ]
    },
    {
     "name": "stdout",
     "output_type": "stream",
     "text": [
      "Your number is 1314134\n",
      "The square root of your number is 1146.36\n"
     ]
    }
   ],
   "source": [
    "import math\n",
    "num = int(input(\"Please, enter number above 500:\"))\n",
    "print (\"Your number is\", num)\n",
    "answer = math.sqrt(num)\n",
    "if num < 500:\n",
    "    print (\"Incorrect! Number must be above 500!\")\n",
    "else: \n",
    "    print (\"The square root of your number is\", round(answer, 2))"
   ]
  },
  {
   "attachments": {},
   "cell_type": "markdown",
   "id": "ec0426d6-751c-487f-bf50-ee94e27dc11b",
   "metadata": {},
   "source": [
    "11. Запросите радиус и глубину цилиндра и рассчитайте общий объем (площадь круга *глубина), округленный до трех\r\n",
    "знаков после запятой\n",
    "\r\n"
   ]
  },
  {
   "cell_type": "code",
   "execution_count": 1,
   "id": "e1921e26-e739-4a58-b374-2b2638531747",
   "metadata": {},
   "outputs": [
    {
     "name": "stdin",
     "output_type": "stream",
     "text": [
      "Please, enter the radius: 100\n",
      "Please, enter the depth: 10\n"
     ]
    },
    {
     "name": "stdout",
     "output_type": "stream",
     "text": [
      "Your radius is 100 Your depth is 10\n",
      "The volume is: 314159.265\n"
     ]
    }
   ],
   "source": [
    "import math\n",
    "radius = int(input(\"Please, enter the radius:\"))\n",
    "depth = int(input(\"Please, enter the depth:\"))\n",
    "print (\"Your radius is\", radius, \"Your depth is\", depth)\n",
    "square = math.pi * (radius ** 2)\n",
    "volume = square * depth\n",
    "print (\"The volume is:\", round(volume, 3))\n"
   ]
  },
  {
   "attachments": {},
   "cell_type": "markdown",
   "id": "2953ce67-5fc5-4155-9a88-d348551f36df",
   "metadata": {},
   "source": [
    "12. Попросите пользователя ввести два числа. \n",
    "Используйте деление на целое число, чтобы разделит \r\n",
    "первое число на второе, а также вычисли ь остаток от деления и\r\n",
    "отобразить ответ удобным для пользоват ля\r\n",
    "способом (например, если вводится 7 и 2, то вывод тся\r\n",
    "“7, разделенное на 2, равно 3 при этом остаток от целочисленного деления равно\n",
    "1”).\r\n"
   ]
  },
  {
   "cell_type": "code",
   "execution_count": 12,
   "id": "eb14e26b-b91e-443a-8c8c-ad40d39487e5",
   "metadata": {},
   "outputs": [
    {
     "name": "stdin",
     "output_type": "stream",
     "text": [
      "Please, enter the first number: 7\n",
      "Please, enter the second number: 2\n"
     ]
    },
    {
     "name": "stdout",
     "output_type": "stream",
     "text": [
      "7 разделить на 2\n",
      "Целое: 3\n",
      "Остаток: 1\n"
     ]
    }
   ],
   "source": [
    "import math\n",
    "number_1 = int(input(\"Please, enter the first number:\"))\n",
    "number_2 = int(input(\"Please, enter the second number:\"))\n",
    "print (number_1, \"разделить на\", number_2)\n",
    "answer = number_1 // number_2\n",
    "extra = number_1 % number_2\n",
    "print (\"Целое:\", answer)\n",
    "print (\"Остаток:\", extra)"
   ]
  },
  {
   "cell_type": "markdown",
   "id": "63213452-419d-4c1e-b453-a1c5d5d204d4",
   "metadata": {},
   "source": []
  }
 ],
 "metadata": {
  "kernelspec": {
   "display_name": "Python 3 (ipykernel)",
   "language": "python",
   "name": "python3"
  },
  "language_info": {
   "codemirror_mode": {
    "name": "ipython",
    "version": 3
   },
   "file_extension": ".py",
   "mimetype": "text/x-python",
   "name": "python",
   "nbconvert_exporter": "python",
   "pygments_lexer": "ipython3",
   "version": "3.12.2"
  }
 },
 "nbformat": 4,
 "nbformat_minor": 5
}
