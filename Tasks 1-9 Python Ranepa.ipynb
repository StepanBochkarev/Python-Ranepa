{
 "cells": [
  {
   "cell_type": "markdown",
   "id": "789b54f1-900c-4478-834b-cffebbd50458",
   "metadata": {},
   "source": [
    "1. Спросите имя пользователя и отобразите выходное сообщение Здравствуйте [Имя]"
   ]
  },
  {
   "cell_type": "code",
   "execution_count": 3,
   "id": "3a48fee8-61b1-4f5d-9663-baa909d5045b",
   "metadata": {},
   "outputs": [
    {
     "name": "stdin",
     "output_type": "stream",
     "text": [
      "Please enter your first name: Stepan\n"
     ]
    },
    {
     "name": "stdout",
     "output_type": "stream",
     "text": [
      "Hello, Stepan\n"
     ]
    }
   ],
   "source": [
    "firstname = input(\"Please enter your first name:\")\n",
    "print (\"Hello,\",firstname)"
   ]
  },
  {
   "cell_type": "markdown",
   "id": "1991b24d-c054-4b21-a0ab-fb449ffb7d8e",
   "metadata": {},
   "source": [
    "2. В килограмме 2,204 фунта. Попросите пользователя ввести вес в килограммах и преобращовать его до фунтов. "
   ]
  },
  {
   "cell_type": "code",
   "execution_count": 4,
   "id": "63e4a835-959f-4cf2-889f-49c25844ea2b",
   "metadata": {},
   "outputs": [
    {
     "name": "stdin",
     "output_type": "stream",
     "text": [
      "Enter the number of kilos:  100\n"
     ]
    },
    {
     "name": "stdout",
     "output_type": "stream",
     "text": [
      "That is 220.4 pounds\n"
     ]
    }
   ],
   "source": [
    "kilo = int(input(\"Enter the number of kilos:\"))\n",
    "pound = kilo * 2.204\n",
    "print (\"That is\", pound, \"pounds\")"
   ]
  },
  {
   "cell_type": "markdown",
   "id": "ba1ee010-35c3-41d4-8677-528a1e798955",
   "metadata": {},
   "source": [
    "3. Попросите пользователя ввести число больше 100, а затем введите число меньше 10 и выведите, во сколько раз большее число больше меньшего числа."
   ]
  },
  {
   "cell_type": "code",
   "execution_count": 2,
   "id": "5474f1a6-6a7f-4281-9ed2-37099b6c67cd",
   "metadata": {},
   "outputs": [
    {
     "name": "stdin",
     "output_type": "stream",
     "text": [
      "Enter the number above 100:  1000\n"
     ]
    },
    {
     "name": "stdout",
     "output_type": "stream",
     "text": [
      "You entered: 1000\n",
      "First number is bigger than second in 200 times.\n"
     ]
    }
   ],
   "source": [
    "number = int(input(\"Enter the number above 100: \"))\n",
    "print (\"You entered:\", number)\n",
    "number_2 = 5\n",
    "result = number // number_2\n",
    "print (\"First number is bigger than second in\", result, \"times.\")\n"
   ]
  },
  {
   "cell_type": "code",
   "execution_count": 6,
   "id": "b304c01f-f526-4597-8af7-86ddbe1a2121",
   "metadata": {},
   "outputs": [],
   "source": [
    "#Ниже сделал второй вариант решения задачи, т.к. не совсем понял условие. Во втором варианте число вводится в командную строку два раза, \n",
    "#по очереди, сначала ввожу больше 100, затем меньше 10, в итоге выводится результат во сколько 1-е введенное число больше 2-го."
   ]
  },
  {
   "cell_type": "code",
   "execution_count": 4,
   "id": "218c2b56-110c-4505-a9ac-02c64d02c9a8",
   "metadata": {},
   "outputs": [
    {
     "name": "stdin",
     "output_type": "stream",
     "text": [
      "Enter the number above 100:  1000\n"
     ]
    },
    {
     "name": "stdout",
     "output_type": "stream",
     "text": [
      "You entered: 1000\n"
     ]
    },
    {
     "name": "stdin",
     "output_type": "stream",
     "text": [
      " 5\n"
     ]
    },
    {
     "name": "stdout",
     "output_type": "stream",
     "text": [
      "First number is bigger than second in 200 times.\n"
     ]
    }
   ],
   "source": [
    "number = int(input(\"Enter the number above 100: \"))\n",
    "print (\"You entered:\", number)\n",
    "number_2 = int(input())\n",
    "result = number // number_2\n",
    "print (\"First number is bigger than second in\", result, \"times.\")\n"
   ]
  },
  {
   "cell_type": "markdown",
   "id": "49ca4e93-3c7d-4032-91d6-d5e954a4672a",
   "metadata": {},
   "source": [
    "4. Спросите возраст пользователя. Если введено 18 лет и больше, отобразите сообщение \"Вы можете голосовать\", если 17 лет, отображается сообщение \"Вы можете научиться водить\", если 16 отобразить сообщение \"Вы можете купить лотерейный билет\", если моложе 16 лет, отобразить сообщение \"Прекрасный возраст\". "
   ]
  },
  {
   "cell_type": "code",
   "execution_count": 15,
   "id": "d37aab46-2e9c-4c6d-9afe-142bf68f7fe6",
   "metadata": {},
   "outputs": [
    {
     "name": "stdin",
     "output_type": "stream",
     "text": [
      "How old are you? 14\n"
     ]
    },
    {
     "name": "stdout",
     "output_type": "stream",
     "text": [
      "14\n",
      "Прекрасный возраст!\n"
     ]
    }
   ],
   "source": [
    "age = int(input(\"How old are you?\"))\n",
    "print (age)\n",
    "if age >= 18:\n",
    "    print (\"Вы можете голосовать.\")\n",
    "elif age == 17:\n",
    "    print (\"Вы можете научиться водить.\")\n",
    "elif age == 16:\n",
    "    print (\"Вы можете купить лотерейный билет.\")\n",
    "else:\n",
    "    print (\"Прекрасный возраст!\")\n",
    "\n"
   ]
  },
  {
   "cell_type": "markdown",
   "id": "96b7e927-7a72-4124-986a-f8333125dde0",
   "metadata": {},
   "source": [
    "5. Попросите пользователя ввести число. Если меньше 10, отобразить сообщение \"Слишком мало\", если число между 10 и 20, отобразите \"Правильно\", в противном случае выведите \"Слишком много\"."
   ]
  },
  {
   "cell_type": "code",
   "execution_count": 7,
   "id": "bb384556-5970-45d1-b511-b44e8b8c7356",
   "metadata": {},
   "outputs": [
    {
     "name": "stdin",
     "output_type": "stream",
     "text": [
      "Please, write a number: 2\n"
     ]
    },
    {
     "name": "stdout",
     "output_type": "stream",
     "text": [
      "Слишком мало :(\n"
     ]
    }
   ],
   "source": [
    "number = int(input(\"Please, write a number:\"))\n",
    "if number < 10:\n",
    "             print (\"Слишком мало :(\")\n",
    "elif number >= 10 and number <= 20:\n",
    "             print (\"Правильно!\")\n",
    "else: \n",
    "    print (\"Слишком много :(\")\n",
    "\n",
    "                "
   ]
  },
  {
   "cell_type": "markdown",
   "id": "6b5c489c-03c4-4de9-a0d1-410023082562",
   "metadata": {},
   "source": [
    "6. Попросите пользователя ввести 1,2 или 3. Если введено 1, отобразите сообщение \"Спасибо.\", если введено 2, отобразить \"Молодец!\", если введено 3, отобразить \"Правильно!\". Если введено что-либо еще, отобразить \"Сообщение об ошибке\"."
   ]
  },
  {
   "cell_type": "code",
   "execution_count": 33,
   "id": "408212ed-8827-46cc-8902-75e19669e944",
   "metadata": {},
   "outputs": [
    {
     "name": "stdin",
     "output_type": "stream",
     "text": [
      "Please, choose 1,2 or 3: 2\n"
     ]
    },
    {
     "name": "stdout",
     "output_type": "stream",
     "text": [
      "Молодец!\n"
     ]
    }
   ],
   "source": [
    "num = int(input(\"Please, choose 1,2 or 3:\"))\n",
    "if num == 1:\n",
    "    print (\"Спасибо!\")\n",
    "elif num == 2:\n",
    "    print (\"Молодец!\")\n",
    "elif num == 3:\n",
    "    print (\"Правильно!\")\n",
    "else: print (\"Сообщение об ошибке :(\")\n",
    "        "
   ]
  },
  {
   "cell_type": "markdown",
   "id": "ef196438-1ede-487e-a823-6f6063320069",
   "metadata": {},
   "source": [
    "7. Попросите пользователя ввсети свое имя, а затем попросите его ввести фамилию. Соедините их вместе, используя пробел между ними, отобразите полученную строку и длину. "
   ]
  },
  {
   "cell_type": "code",
   "execution_count": 39,
   "id": "7a094986-fffa-4084-9429-c16a676bed85",
   "metadata": {},
   "outputs": [
    {
     "name": "stdin",
     "output_type": "stream",
     "text": [
      "Please, enter your name: Stepan\n",
      "Please, enter your surname: Bochkarev\n"
     ]
    },
    {
     "name": "stdout",
     "output_type": "stream",
     "text": [
      "Stepan Bochkarev\n",
      "Full name has 16 symbols.\n"
     ]
    }
   ],
   "source": [
    "firstname = input(\"Please, enter your name:\")\n",
    "surname = input(\"Please, enter your surname:\")\n",
    "full_name = firstname + \" \" + surname\n",
    "length = len(full_name)\n",
    "print (full_name)\n",
    "print (\"Full name has\", length, \"symbols.\")"
   ]
  },
  {
   "cell_type": "markdown",
   "id": "8bf9027a-df3b-4b6c-b622-952676ad2edf",
   "metadata": {},
   "source": [
    "8. Попросите пользователя ввести свое имя. Если длина их имени меньше 5-ти символов, попросите ввести свою фамилию и соедините имя и фамилию в одну строку (без пробела), а затем вывести полученную строку в верхнем регистре. Если длина имени равна 5-ти или более символов, отображать имя в нижнем регистре."
   ]
  },
  {
   "cell_type": "code",
   "execution_count": 3,
   "id": "c085f066-9b4d-4bf8-9d48-28a87ad133e7",
   "metadata": {},
   "outputs": [
    {
     "name": "stdin",
     "output_type": "stream",
     "text": [
      "Please, enter your firstname: Step\n",
      "Please,enter your surname: Bochkarev\n"
     ]
    },
    {
     "name": "stdout",
     "output_type": "stream",
     "text": [
      "STEPBOCHKAREV\n"
     ]
    }
   ],
   "source": [
    "firstname = input(\"Please, enter your firstname:\")\n",
    "len_name = len(firstname)\n",
    "if len_name < 5:\n",
    "    surname = input(\"Please,enter your surname:\")\n",
    "    full_name = firstname + surname\n",
    "    print (full_name.upper())\n",
    "else: \n",
    "    print (firstname.lower())\n",
    "    \n",
    "    "
   ]
  },
  {
   "cell_type": "markdown",
   "id": "354021b4-c7ce-45d2-b340-cfc54bb4393e",
   "metadata": {},
   "source": [
    "9. Попросите пользователя ввести любое слово и отобразить его в верхний регистр."
   ]
  },
  {
   "cell_type": "code",
   "execution_count": 1,
   "id": "c9cc0278-06eb-4b7a-92ed-e5db207875e5",
   "metadata": {},
   "outputs": [
    {
     "name": "stdin",
     "output_type": "stream",
     "text": [
      "Please, write a random word: An apple\n"
     ]
    },
    {
     "name": "stdout",
     "output_type": "stream",
     "text": [
      "AN APPLE\n"
     ]
    }
   ],
   "source": [
    "random_word = input(\"Please, write a random word:\")\n",
    "print (random_word.upper())"
   ]
  },
  {
   "cell_type": "code",
   "execution_count": null,
   "id": "5f30bde8-0661-41ad-8a73-8dd13d6ef0c8",
   "metadata": {},
   "outputs": [],
   "source": []
  },
  {
   "cell_type": "code",
   "execution_count": null,
   "id": "fbd6555d-b32f-429c-a0b1-7b994a9a74b7",
   "metadata": {},
   "outputs": [],
   "source": []
  }
 ],
 "metadata": {
  "kernelspec": {
   "display_name": "Python 3 (ipykernel)",
   "language": "python",
   "name": "python3"
  },
  "language_info": {
   "codemirror_mode": {
    "name": "ipython",
    "version": 3
   },
   "file_extension": ".py",
   "mimetype": "text/x-python",
   "name": "python",
   "nbconvert_exporter": "python",
   "pygments_lexer": "ipython3",
   "version": "3.12.2"
  }
 },
 "nbformat": 4,
 "nbformat_minor": 5
}
