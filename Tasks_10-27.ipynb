{
 "cells": [
  {
   "attachments": {},
   "cell_type": "markdown",
   "id": "692c1fcd-d4f0-42f1-8d62-0ec29928ce6b",
   "metadata": {},
   "source": [
    "10. Попросите пользователя ввести целое число, превышающее 500. \n",
    "Вычислите квадратный корень из этого числа и выведите его с точностью до двух знаков посл запятой.\n",
    "\r\n"
   ]
  },
  {
   "cell_type": "code",
   "execution_count": null,
   "id": "d98050e1-71e7-430d-a834-4952c7ca4b99",
   "metadata": {},
   "outputs": [],
   "source": [
    "#Добавил в решение задачи функцию if, else для выполнения проверки числа на соответствие условию задачи \"ввести целое число, превышающее 500\"\n",
    "#При не выполнении условия код вовзращает ошибку, при выполнении условия происходит расчет корня и округление до 2-х знаков после запятой."
   ]
  },
  {
   "cell_type": "code",
   "execution_count": 3,
   "id": "b7549d1b-1707-4a14-9e2a-43b78c4de354",
   "metadata": {},
   "outputs": [
    {
     "name": "stdin",
     "output_type": "stream",
     "text": [
      "Please, enter number above 500: 999\n"
     ]
    },
    {
     "name": "stdout",
     "output_type": "stream",
     "text": [
      "Your number is 999\n",
      "The square root of your number is 31.61\n"
     ]
    }
   ],
   "source": [
    "import math\n",
    "num = int(input(\"Please, enter number above 500:\"))\n",
    "print (\"Your number is\", num)\n",
    "answer = math.sqrt(num)\n",
    "if num < 500:\n",
    "    print (\"Incorrect! Number must be above 500!\")\n",
    "else: \n",
    "    print (\"The square root of your number is\", round(answer, 2))"
   ]
  },
  {
   "attachments": {},
   "cell_type": "markdown",
   "id": "ec0426d6-751c-487f-bf50-ee94e27dc11b",
   "metadata": {},
   "source": [
    "11. Запросите радиус и глубину цилиндра и рассчитайте общий объем (площадь круга *глубина), округленный до трех\r\n",
    "знаков после запятой\n",
    "\r\n"
   ]
  },
  {
   "cell_type": "code",
   "execution_count": 1,
   "id": "e1921e26-e739-4a58-b374-2b2638531747",
   "metadata": {},
   "outputs": [
    {
     "name": "stdin",
     "output_type": "stream",
     "text": [
      "Please, enter the radius: 100\n",
      "Please, enter the depth: 10\n"
     ]
    },
    {
     "name": "stdout",
     "output_type": "stream",
     "text": [
      "Your radius is 100 Your depth is 10\n",
      "The volume is: 314159.265\n"
     ]
    }
   ],
   "source": [
    "import math\n",
    "radius = int(input(\"Please, enter the radius:\"))\n",
    "depth = int(input(\"Please, enter the depth:\"))\n",
    "print (\"Your radius is\", radius, \"Your depth is\", depth)\n",
    "square = math.pi * (radius ** 2)\n",
    "volume = square * depth\n",
    "print (\"The volume is:\", round(volume, 3))\n"
   ]
  },
  {
   "attachments": {},
   "cell_type": "markdown",
   "id": "2953ce67-5fc5-4155-9a88-d348551f36df",
   "metadata": {},
   "source": [
    "12. Попросите пользователя ввести два числа. \n",
    "Используйте деление на целое число, чтобы разделит \r\n",
    "первое число на второе, а также вычисли ь остаток от деления и\r\n",
    "отобразить ответ удобным для пользоват ля\r\n",
    "способом (например, если вводится 7 и 2, то вывод тся\r\n",
    "“7, разделенное на 2, равно 3 при этом остаток от целочисленного деления равно\n",
    "1”).\r\n"
   ]
  },
  {
   "cell_type": "code",
   "execution_count": 8,
   "id": "eb14e26b-b91e-443a-8c8c-ad40d39487e5",
   "metadata": {},
   "outputs": [
    {
     "name": "stdin",
     "output_type": "stream",
     "text": [
      "Please, enter the first number: 7\n",
      "Please, enter the second number: 2\n"
     ]
    },
    {
     "name": "stdout",
     "output_type": "stream",
     "text": [
      "7 разделить на 2\n",
      "Целое: 3\n",
      "Остаток: 1\n"
     ]
    }
   ],
   "source": [
    "import math\n",
    "number_1 = int(input(\"Please, enter the first number:\"))\n",
    "number_2 = int(input(\"Please, enter the second number:\"))\n",
    "print (number_1, \"разделить на\", number_2)\n",
    "answer = number_1 // number_2\n",
    "extra = number_1 % number_2\n",
    "print (\"Целое:\", answer)\n",
    "print (\"Остаток:\", extra)"
   ]
  },
  {
   "attachments": {},
   "cell_type": "markdown",
   "id": "63213452-419d-4c1e-b453-a1c5d5d204d4",
   "metadata": {},
   "source": [
    "13. Установите для переменной с именем total значение 0. Попросите пользователя ввести пять чисел и после каждого ввода спрашивайте, необходимо ли учитывать это число. Если необходимо, то добавьте это число к общей сумме. Если необходимости включения числа в общую сумму нет, то не добавляйте его в общую сумму. После того, как пользователь введёт все пять чисел, отобразите общую сумму."
   ]
  },
  {
   "cell_type": "code",
   "execution_count": 7,
   "id": "644effdb-f10e-4925-94e3-030d557dea53",
   "metadata": {},
   "outputs": [
    {
     "name": "stdin",
     "output_type": "stream",
     "text": [
      "Enter a number: 5\n",
      "Do you want include this number? (y/n) y\n",
      "Enter a number: 3\n",
      "Do you want include this number? (y/n) y\n",
      "Enter a number: 2\n",
      "Do you want include this number? (y/n) n\n",
      "Enter a number: 7\n",
      "Do you want include this number? (y/n) n\n",
      "Enter a number: 8\n",
      "Do you want include this number? (y/n) y\n"
     ]
    },
    {
     "name": "stdout",
     "output_type": "stream",
     "text": [
      "16\n"
     ]
    }
   ],
   "source": [
    "total = 0\n",
    "for i in range (0, 5):\n",
    "    number = int(input(\"Enter a number:\"))\n",
    "    answer = input (\"Do you want include this number? (y/n)\")\n",
    "    if answer == \"y\":\n",
    "                 total = total + number\n",
    "print(total)"
   ]
  },
  {
   "attachments": {},
   "cell_type": "markdown",
   "id": "ab2a45cb-8893-4973-9644-190001f75aef",
   "metadata": {},
   "source": [
    "14. Спросите, в каком направлении пользователь хочет вести отсчет (вверх или вниз). Если был выбран отсчёт вверх, то попросите\r\n",
    "назвать верхнее число, а затем сосчитайте от 1 до этого числа. Если выбран отсчёт \"вниз\", попросите ввести число меньше 20, а затем отсчитайте от 20 до этого числа. Если пользователь\r\n",
    "ввел что-то другое, кроме up или down, отобразится сообщение “Я не понимаю”.\r\n"
   ]
  },
  {
   "cell_type": "code",
   "execution_count": 23,
   "id": "e6f92383-f78c-4392-befd-8fa9fd0d7041",
   "metadata": {},
   "outputs": [
    {
     "name": "stdin",
     "output_type": "stream",
     "text": [
      "Direction (u/d): d\n",
      "Please, enter a number below 20: 7\n"
     ]
    },
    {
     "name": "stdout",
     "output_type": "stream",
     "text": [
      "20\n",
      "19\n",
      "18\n",
      "17\n",
      "16\n",
      "15\n",
      "14\n",
      "13\n",
      "12\n",
      "11\n",
      "10\n",
      "9\n",
      "8\n",
      "7\n"
     ]
    }
   ],
   "source": [
    "direction = input(\"Direction (u/d):\")\n",
    "if direction == \"u\":\n",
    "    num = int(input(\"What is the top number?\"))\n",
    "    for i in range (1, num + 1):\n",
    "        print (i)\n",
    "elif direction == \"d\":\n",
    "    num = int(input(\"Please, enter a number below 20:\"))\n",
    "    for i in range (20, num - 1, -1):\n",
    "        print (i)\n",
    "else: print (\"I don't understand!\")"
   ]
  },
  {
   "attachments": {},
   "cell_type": "markdown",
   "id": "428b0dc2-854a-49b9-a808-b80b14b6a081",
   "metadata": {},
   "source": [
    "15. Спросите, сколько человек пользователь хочет пригласить на вечеринку. Если введено число ниже 10, запросите имена и после каждого имени отобразите “[имя] – ждём на вечеринку!”. Если введено число, равное 10 или выше, отобразится сообщение “Слишком много людей”."
   ]
  },
  {
   "cell_type": "code",
   "execution_count": 1,
   "id": "3a236566-f58e-4c3d-8a57-14247463e5e5",
   "metadata": {},
   "outputs": [
    {
     "name": "stdin",
     "output_type": "stream",
     "text": [
      "How many people you are going to invite? 3\n",
      "Please, enter the name to invite: Stepa\n"
     ]
    },
    {
     "name": "stdout",
     "output_type": "stream",
     "text": [
      "Stepa - ждем на вечеринку!\n"
     ]
    },
    {
     "name": "stdin",
     "output_type": "stream",
     "text": [
      "Please, enter the name to invite: Tema\n"
     ]
    },
    {
     "name": "stdout",
     "output_type": "stream",
     "text": [
      "Tema - ждем на вечеринку!\n"
     ]
    },
    {
     "name": "stdin",
     "output_type": "stream",
     "text": [
      "Please, enter the name to invite: Alisa\n"
     ]
    },
    {
     "name": "stdout",
     "output_type": "stream",
     "text": [
      "Alisa - ждем на вечеринку!\n"
     ]
    }
   ],
   "source": [
    "people = int(input(\"How many people you are going to invite?\"))\n",
    "if people < 10:\n",
    "    for i in range (people):\n",
    "        name = input(\"Please, enter the name to invite:\")\n",
    "        print (name, \"- ждем на вечеринку!\")\n",
    "else:\n",
    "    print (\"Слишком много людей!\")"
   ]
  },
  {
   "attachments": {},
   "cell_type": "markdown",
   "id": "4b239370-bc9b-4c84-9427-38acaa8eb783",
   "metadata": {},
   "source": [
    "\r\n"
   ]
  },
  {
   "attachments": {},
   "cell_type": "markdown",
   "id": "10038dfa-350c-45ce-a7e5-a8795e845eda",
   "metadata": {},
   "source": [
    "16. Создайте переменную с именем compnum и установите значение \n",
    "50. Попросите пользователя ввести номер. Если предположение не совпадает со значением compnum, выведите сообщение является ли введенное число меньше или больше compnum, и попросите высказать другое предположение. Если введен \r\n",
    "то же значение, что и compnum, отобразится сообщение “Молодец, ты предпринял [количество] попыток”.\r\n"
   ]
  },
  {
   "cell_type": "code",
   "execution_count": 4,
   "id": "dd9a3ce4-3866-48bd-8231-7c0e29ea2d95",
   "metadata": {},
   "outputs": [
    {
     "name": "stdin",
     "output_type": "stream",
     "text": [
      "Please, guess the number I'm thinking of? 44\n"
     ]
    },
    {
     "name": "stdout",
     "output_type": "stream",
     "text": [
      "Your number is smaller :(\n"
     ]
    },
    {
     "name": "stdin",
     "output_type": "stream",
     "text": [
      "Please, have another guess 43\n"
     ]
    },
    {
     "name": "stdout",
     "output_type": "stream",
     "text": [
      "Your number is smaller :(\n"
     ]
    },
    {
     "name": "stdin",
     "output_type": "stream",
     "text": [
      "Please, have another guess 50\n"
     ]
    },
    {
     "name": "stdout",
     "output_type": "stream",
     "text": [
      "Well done, you took 3 tries\n"
     ]
    }
   ],
   "source": [
    "compnum = 50 \n",
    "guess = int(input(\"Please, guess the number I'm thinking of?\"))\n",
    "count = 1\n",
    "while guess != compnum:\n",
    "    if guess < compnum:\n",
    "        print (\"Your number is smaller :(\")\n",
    "    else: print (\"Too high! :(\")\n",
    "    count += 1\n",
    "    guess = int(input(\"Please, have another guess\"))\n",
    "print (\"Well done, you took\", count, \"tries\")"
   ]
  },
  {
   "attachments": {},
   "cell_type": "markdown",
   "id": "86f8764c-5047-4298-82ff-8bba61b894cc",
   "metadata": {},
   "source": [
    "17. Попросите пользователя ввести число между \n",
    "10 и 20. Если введено значение меньше 10 \r\n",
    "отобразится сообщение “Слишком низкое” и попроси е\r\n",
    "повторить попытку. Если введено значе ие\r\n",
    "выше 20, отобразится сообщение “Слишком высо ое”\r\n",
    "и попросите повторить попытку. Продол айте повт рять\r\n",
    "это до тех пор, пока не будет введено зн чение\r\n",
    "от 10 до 20, а затем отобразите сообщение “Спасибо”.\r\n"
   ]
  },
  {
   "cell_type": "code",
   "execution_count": null,
   "id": "798c4beb-1718-4c82-8fc8-662afa3fe1da",
   "metadata": {},
   "outputs": [],
   "source": [
    "guess = int(input(\"Please, enter a number beetween 10 and 20\"))\n",
    "while guess < 10 or guess > 20:\n",
    "    if guess > 10:\n",
    "        print (\"Слишком высоко!\")\n",
    "    elif guess < 10 or guess > 20:\n",
    "        print (\"Спасибо!\")\n",
    "    else:\n",
    "        print (\"Слишком низко!\")\n",
    "    guess = int(input(\"Try again!\"))\n",
    "    print (\"Thank you!\")"
   ]
  },
  {
   "cell_type": "code",
   "execution_count": null,
   "id": "db82f7d4-8b68-460e-9050-dc86cadc6e60",
   "metadata": {},
   "outputs": [],
   "source": [
    "guess = int(input(\"Please, enter a number beetween 10 and 20\"))\n",
    "while guess < 10 or guess > 20:\n",
    "    if guess > 10:\n",
    "        print (\"Слишком высоко!\")\n",
    "    elif guess < 10 or guess > 20:\n",
    "        print (\"Спасибо!\")\n",
    "    else:\n",
    "        print (\"Слишком низко!\")\n",
    "guess = int(input(\"Try again!\"))\n",
    "print (\"Thank you!\")"
   ]
  },
  {
   "cell_type": "markdown",
   "id": "479cfddb-fff0-4505-a528-037aaf222ec7",
   "metadata": {},
   "source": [
    "Задача 18."
   ]
  },
  {
   "cell_type": "code",
   "execution_count": null,
   "id": "d2c6ef39-a3b9-4421-92fb-b5f5377b6cde",
   "metadata": {},
   "outputs": [
    {
     "name": "stdout",
     "output_type": "stream",
     "text": [
      "На стене висит 10 зеленых бутылок, 10 зеленых бутылок висит на стене, и если 1 зеленая бутылка случайно упадет\n"
     ]
    },
    {
     "name": "stdin",
     "output_type": "stream",
     "text": [
      "Сколько зеленых бутылок будет висеть на стене?  2\n"
     ]
    },
    {
     "name": "stdout",
     "output_type": "stream",
     "text": [
      "Нет, попробуйте ещё раз\n",
      "На стене висит 10 зеленых бутылок, 10 зеленых бутылок висит на стене, и если 1 зеленая бутылка случайно упадет\n"
     ]
    },
    {
     "name": "stdin",
     "output_type": "stream",
     "text": [
      "Сколько зеленых бутылок будет висеть на стене?  10\n"
     ]
    },
    {
     "name": "stdout",
     "output_type": "stream",
     "text": [
      "Нет, попробуйте ещё раз\n",
      "На стене висит 10 зеленых бутылок, 10 зеленых бутылок висит на стене, и если 1 зеленая бутылка случайно упадет\n"
     ]
    }
   ],
   "source": [
    "count_of_bottles = 10\n",
    "while count_of_bottles > 0:\n",
    "    print(\"На стене висит\",count_of_bottles,\"зеленых бутылок,\",count_of_bottles,\"зеленых бутылок висит на стене, и если 1 зеленая бутылка случайно упадет\")\n",
    "    ans = int(input(\"Сколько зеленых бутылок будет висеть на стене? \"))\n",
    "    if ans == count_of_bottles - 1:\n",
    "        if ans !=0:\n",
    "            print(\"Будет \",count_of_bottles-1,\"зеленых бутылок, висящих на стене\")\n",
    "        else:\n",
    "            print(\"На стене больше нет зелёных бутылок\")\n",
    "        count_of_bottles = count_of_bottles-1\n",
    "    else:\n",
    "        print(\"Нет, попробуйте ещё раз\")"
   ]
  },
  {
   "cell_type": "markdown",
   "id": "120d16b9-5853-4996-be7d-2bbe2ec006ef",
   "metadata": {},
   "source": [
    "Задача 19."
   ]
  },
  {
   "cell_type": "code",
   "execution_count": null,
   "id": "4a25f1e9-ffec-4ed6-876b-e74d3f74bc5b",
   "metadata": {},
   "outputs": [
    {
     "name": "stdout",
     "output_type": "stream",
     "text": [
      "20 + 3 = \n"
     ]
    },
    {
     "name": "stdin",
     "output_type": "stream",
     "text": [
      "Your answer:  23\n"
     ]
    },
    {
     "name": "stdout",
     "output_type": "stream",
     "text": [
      "\n",
      "9 + 35 = \n"
     ]
    },
    {
     "name": "stdin",
     "output_type": "stream",
     "text": [
      "Your answer:  43\n"
     ]
    },
    {
     "name": "stdout",
     "output_type": "stream",
     "text": [
      "\n",
      "29 + 48 = \n"
     ]
    }
   ],
   "source": [
    "import random\n",
    "score = 0\n",
    "for i in range(1, 6):\n",
    "    num1 = random.randint(1,50)\n",
    "    num2 = random.randint(1,50)\n",
    "    correct = num1 + num2\n",
    "    print(num1, \"+\", num2, \"= \")\n",
    "    answer = int(input(\"Your answer: \"))\n",
    "    print()\n",
    "    if answer == correct:\n",
    "        score = score + 1\n",
    "print(\"You scored\", score, \"out of 5\")"
   ]
  },
  {
   "cell_type": "markdown",
   "id": "4e3d68e1-26f7-44f5-a29a-0f54a8355f27",
   "metadata": {},
   "source": [
    "Задача 20."
   ]
  },
  {
   "cell_type": "code",
   "execution_count": null,
   "id": "e0545019-b8d2-4c4e-b75e-61c8ed5bf415",
   "metadata": {},
   "outputs": [],
   "source": [
    "import random\n",
    "colour = random.choice([\"red\", \"blue\", \"green\", \"white\", \"pink\"])\n",
    "print(\"Select from red, blue, green, white or pink\")\n",
    "tryagain = True\n",
    "while tryagain == True:\n",
    "    theirchoice = input(\"Enter a colour: \")\n",
    "    theirchoice = theirchoice.lower()\n",
    "    if colour == theirchoice:\n",
    "        print(\"Well done\")\n",
    "        tryagain = False\n",
    "    else:\n",
    "        if colour == \"red\":\n",
    "            print(\"I bet you are seeing RED right now!\")\n",
    "        elif colour == \"blue\":\n",
    "            print(\"Don't feel BLUE.\")\n",
    "        elif colour == \"green\":\n",
    "            print(\"I bet you are GREEN with envy right now!\")\n",
    "        elif colour == \"white\":\n",
    "            print(\"Are you WHITE as a sheet, as you didn't guess correctly?\")\n",
    "        elif colour == \"pink\":\n",
    "            print(\"Shame you are not feeling in the PINK, as you got it wrong!\")"
   ]
  },
  {
   "cell_type": "markdown",
   "id": "da2e134b-a72e-4593-8785-85a1baa5defb",
   "metadata": {},
   "source": [
    "Задача 21."
   ]
  },
  {
   "cell_type": "code",
   "execution_count": null,
   "id": "87b2c10b-8f86-4c8b-b18c-40bd11a4367e",
   "metadata": {},
   "outputs": [],
   "source": [
    "import random\n",
    "num = random.randint(1,5)\n",
    "for i in range(2):\n",
    "    ans = int(input(\"Угадай число от 1 до 5: \"))\n",
    "    if ans == num:\n",
    "        print(\"Молодец\")\n",
    "        break\n",
    "    elif ans > num:\n",
    "        if i == 1:\n",
    "            print(\"Вы проиграли\")\n",
    "        else:\n",
    "            print(\"Слишком много\")\n",
    "    elif ans < num:\n",
    "        if i == 1:\n",
    "            print(\"Вы проиграли\")\n",
    "        else:\n",
    "            print(\"Слишком мало\")"
   ]
  },
  {
   "cell_type": "markdown",
   "id": "2259c5dd-5b9d-48b0-b2d8-526016d14741",
   "metadata": {},
   "source": [
    "Задача 22."
   ]
  },
  {
   "cell_type": "code",
   "execution_count": null,
   "id": "60298be3-4b90-4ee4-bb7f-7251ff063f43",
   "metadata": {},
   "outputs": [],
   "source": [
    "name1 = input(\"Enter a name of somebody you want to invite to your party: \")\n",
    "name2 = input(\"Enter another name: \")\n",
    "name3 = input(\"Enter a third name: \")\n",
    "party = [name1, name2, name3]\n",
    "another = input(\"Do you want to invite another (y/n): \")\n",
    "while another == \"y\":\n",
    "    newname = party.append(input(\"Enter another name: \"))\n",
    "    print(party)\n",
    "    another = input(\"Do you want to invite another (y/n): \")\n",
    "print(\"You have\", len(party), \"people coming to your party\")"
   ]
  },
  {
   "cell_type": "code",
   "execution_count": null,
   "id": "77428a1d-605c-45c7-aeb0-7b72c01a396b",
   "metadata": {},
   "outputs": [],
   "source": [
    "Задача 23."
   ]
  },
  {
   "cell_type": "code",
   "execution_count": null,
   "id": "3d6a093b-4a41-450b-9dfe-4d08e2f3fd89",
   "metadata": {},
   "outputs": [],
   "source": [
    "tv = [\"Task Master\", \"Top Gear\",\"The Big Bang Theory\", \"How I Met Your Mother\"]\n",
    "for i in tv:\n",
    "    print(i)\n",
    "print()\n",
    "newtv = input(\"Enter another TV show: \")\n",
    "position = int(input(\"Enter a number between 0 and 3: \"))\n",
    "tv.insert(position, newtv)\n",
    "for i in tv:\n",
    "    print(i)\n",
    "    "
   ]
  },
  {
   "cell_type": "code",
   "execution_count": null,
   "id": "22061014-808c-4661-ac1b-a5deaf446f89",
   "metadata": {},
   "outputs": [],
   "source": [
    "Задача 24."
   ]
  },
  {
   "cell_type": "code",
   "execution_count": null,
   "id": "c4eb7bd9-691a-40a8-ab79-095ca17e6959",
   "metadata": {},
   "outputs": [],
   "source": [
    "nums = []\n",
    "for i in range(3):\n",
    "    num = int(input(\"Введите число: \"))\n",
    "    nums.append(num)\n",
    "    print(nums)\n",
    "    if len(nums) == 3:\n",
    "        res = input(\"Хотите по прежнему сохранить последний введённый номер? (да/нет) \")\n",
    "        if res == \"нет\":\n",
    "            nums = nums[:len(nums)-1]\n",
    "            print(nums)\n",
    "        else:\n",
    "            print(nums)"
   ]
  },
  {
   "cell_type": "markdown",
   "id": "3134d56e-020b-4489-99b7-9dbc607fcecd",
   "metadata": {},
   "source": [
    "Задача 25."
   ]
  },
  {
   "cell_type": "code",
   "execution_count": null,
   "id": "fa582c41-dd09-48ca-80a5-ac1fadc647c7",
   "metadata": {},
   "outputs": [],
   "source": [
    "from array import *\n",
    "\n",
    "nums = array('i', [])\n",
    "\n",
    "for i in range(0,5):\n",
    "    num = int(input(\"Enter a number: \"))\n",
    "    nums.append(num)\n",
    "nums = sorted(nums)\n",
    "for i in nums:\n",
    "    print(i)\n",
    "num = int(input(\"Select a number from the array: \"))\n",
    "if num in nums:\n",
    "    nums.remove(num)\n",
    "    num2 = array('i', [])\n",
    "    num2.append(num)\n",
    "    print(nums)\n",
    "    print(num2)\n",
    "else:\n",
    "    print(\"That is not a value in the array\")"
   ]
  },
  {
   "cell_type": "markdown",
   "id": "ed4a457a-2b03-435f-8256-6d6cd7316751",
   "metadata": {},
   "source": [
    "Задача 26."
   ]
  },
  {
   "cell_type": "code",
   "execution_count": null,
   "id": "aca05a6a-190f-47f3-8509-f7dfb5344212",
   "metadata": {},
   "outputs": [],
   "source": [
    "from array import *\n",
    "import math\n",
    "nums = array('f', [34.75, 27.23, 99.58, 45.26, 28.65])\n",
    "tryagain = True\n",
    "while tryagain == True:\n",
    "    num = int(input(\"Enter a number between 2 and 5: \"))\n",
    "    if num < 2 or num > 5:\n",
    "        print(\"Incorrect value, try again.\")\n",
    "    else:\n",
    "        tryagain = False\n",
    "for i in range(0,5):\n",
    "    ans = nums[i]/num\n",
    "    print(round(ans, 2))"
   ]
  },
  {
   "cell_type": "code",
   "execution_count": null,
   "id": "ecc009c6-bd73-416a-b3f9-e1efde633c94",
   "metadata": {},
   "outputs": [],
   "source": [
    "Задача 27."
   ]
  },
  {
   "cell_type": "code",
   "execution_count": null,
   "id": "8394c472-0d85-4dfd-918e-4b4212744733",
   "metadata": {},
   "outputs": [],
   "source": [
    "list = []\n",
    "while True:\n",
    "    num = int(input(\"Введите число в диапазоне от 10 до 20: \"))\n",
    "    if num < 10:\n",
    "        print(\"Вне диапазона\")\n",
    "    elif num > 20:\n",
    "        print(\"Вне диапазона\")\n",
    "    else:\n",
    "        list.append(num)\n",
    "    if len(list) == 5:\n",
    "        print(\"Спасибо\")\n",
    "        for i in range(len(list)):\n",
    "            print(list[i])\n",
    "        break"
   ]
  },
  {
   "cell_type": "code",
   "execution_count": null,
   "id": "1722f032-93d3-4bab-a008-397e11b13115",
   "metadata": {},
   "outputs": [],
   "source": []
  }
 ],
 "metadata": {
  "kernelspec": {
   "display_name": "Python 3 (ipykernel)",
   "language": "python",
   "name": "python3"
  },
  "language_info": {
   "codemirror_mode": {
    "name": "ipython",
    "version": 3
   },
   "file_extension": ".py",
   "mimetype": "text/x-python",
   "name": "python",
   "nbconvert_exporter": "python",
   "pygments_lexer": "ipython3",
   "version": "3.12.2"
  }
 },
 "nbformat": 4,
 "nbformat_minor": 5
}
