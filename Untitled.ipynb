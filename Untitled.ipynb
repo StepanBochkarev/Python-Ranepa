{
 "cells": [
  {
   "cell_type": "markdown",
   "id": "789b54f1-900c-4478-834b-cffebbd50458",
   "metadata": {},
   "source": [
    "1. Спросите имя пользователя и отобразите выходное сообщение Здравствуйте [Имя]"
   ]
  },
  {
   "cell_type": "code",
   "execution_count": 3,
   "id": "3a48fee8-61b1-4f5d-9663-baa909d5045b",
   "metadata": {},
   "outputs": [
    {
     "name": "stdin",
     "output_type": "stream",
     "text": [
      "Please enter your first name: Stepan\n"
     ]
    },
    {
     "name": "stdout",
     "output_type": "stream",
     "text": [
      "Hello, Stepan\n"
     ]
    }
   ],
   "source": [
    "firstname = input(\"Please enter your first name:\")\n",
    "print (\"Hello,\",firstname)"
   ]
  },
  {
   "cell_type": "markdown",
   "id": "1991b24d-c054-4b21-a0ab-fb449ffb7d8e",
   "metadata": {},
   "source": [
    "В килограмме 2,204 фунта. Попросите пользователя ввести вес в килограммах и преобращовать его до фунтов. "
   ]
  },
  {
   "cell_type": "code",
   "execution_count": 4,
   "id": "63e4a835-959f-4cf2-889f-49c25844ea2b",
   "metadata": {},
   "outputs": [
    {
     "name": "stdin",
     "output_type": "stream",
     "text": [
      "Enter the number of kilos:  100\n"
     ]
    },
    {
     "name": "stdout",
     "output_type": "stream",
     "text": [
      "That is 220.4 pounds\n"
     ]
    }
   ],
   "source": [
    "kilo = int(input(\"Enter the number of kilos:\"))\n",
    "pound = kilo * 2.204\n",
    "print (\"That is\", pound, \"pounds\")"
   ]
  },
  {
   "cell_type": "code",
   "execution_count": null,
   "id": "5474f1a6-6a7f-4281-9ed2-37099b6c67cd",
   "metadata": {},
   "outputs": [],
   "source": [
    "number = int(input(\"Enter the number above 100:\"))\n",
    "print (\"You entered:\", number)\n"
   ]
  },
  {
   "cell_type": "code",
   "execution_count": null,
   "id": "1b19f1a3-e095-4bff-8e78-28e1ca02a8ba",
   "metadata": {},
   "outputs": [],
   "source": []
  }
 ],
 "metadata": {
  "kernelspec": {
   "display_name": "Python 3 (ipykernel)",
   "language": "python",
   "name": "python3"
  },
  "language_info": {
   "codemirror_mode": {
    "name": "ipython",
    "version": 3
   },
   "file_extension": ".py",
   "mimetype": "text/x-python",
   "name": "python",
   "nbconvert_exporter": "python",
   "pygments_lexer": "ipython3",
   "version": "3.12.2"
  }
 },
 "nbformat": 4,
 "nbformat_minor": 5
}
