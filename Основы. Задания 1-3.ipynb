{
 "cells": [
  {
   "cell_type": "markdown",
   "id": "789b54f1-900c-4478-834b-cffebbd50458",
   "metadata": {},
   "source": [
    "1. Спросите имя пользователя и отобразите выходное сообщение Здравствуйте [Имя]"
   ]
  },
  {
   "cell_type": "code",
   "execution_count": 3,
   "id": "3a48fee8-61b1-4f5d-9663-baa909d5045b",
   "metadata": {},
   "outputs": [
    {
     "name": "stdin",
     "output_type": "stream",
     "text": [
      "Please enter your first name: Stepan\n"
     ]
    },
    {
     "name": "stdout",
     "output_type": "stream",
     "text": [
      "Hello, Stepan\n"
     ]
    }
   ],
   "source": [
    "firstname = input(\"Please enter your first name:\")\n",
    "print (\"Hello,\",firstname)"
   ]
  },
  {
   "cell_type": "markdown",
   "id": "1991b24d-c054-4b21-a0ab-fb449ffb7d8e",
   "metadata": {},
   "source": [
    "2. В килограмме 2,204 фунта. Попросите пользователя ввести вес в килограммах и преобращовать его до фунтов. "
   ]
  },
  {
   "cell_type": "code",
   "execution_count": 4,
   "id": "63e4a835-959f-4cf2-889f-49c25844ea2b",
   "metadata": {},
   "outputs": [
    {
     "name": "stdin",
     "output_type": "stream",
     "text": [
      "Enter the number of kilos:  100\n"
     ]
    },
    {
     "name": "stdout",
     "output_type": "stream",
     "text": [
      "That is 220.4 pounds\n"
     ]
    }
   ],
   "source": [
    "kilo = int(input(\"Enter the number of kilos:\"))\n",
    "pound = kilo * 2.204\n",
    "print (\"That is\", pound, \"pounds\")"
   ]
  },
  {
   "cell_type": "markdown",
   "id": "ba1ee010-35c3-41d4-8677-528a1e798955",
   "metadata": {},
   "source": [
    "3. Попросите пользователя ввести число больше 100, а затем введите число меньше 10 и выведите, во сколько раз большее число больше меньшего числа."
   ]
  },
  {
   "cell_type": "code",
   "execution_count": 10,
   "id": "5474f1a6-6a7f-4281-9ed2-37099b6c67cd",
   "metadata": {},
   "outputs": [
    {
     "name": "stdin",
     "output_type": "stream",
     "text": [
      "Enter the number above 100:  1000\n"
     ]
    },
    {
     "name": "stdout",
     "output_type": "stream",
     "text": [
      "You entered: 1000\n",
      "200.0\n"
     ]
    }
   ],
   "source": [
    "number = int(input(\"Enter the number above 100: \"))\n",
    "print (\"You entered:\", number)\n",
    "number_2 = 5\n",
    "result = number / number_2\n",
    "print (result)\n"
   ]
  },
  {
   "cell_type": "code",
   "execution_count": null,
   "id": "218c2b56-110c-4505-a9ac-02c64d02c9a8",
   "metadata": {},
   "outputs": [],
   "source": []
  },
  {
   "cell_type": "code",
   "execution_count": 1,
   "id": "82aaa334-1bf8-4f5b-a766-4258db1abdfa",
   "metadata": {},
   "outputs": [
    {
     "name": "stdin",
     "output_type": "stream",
     "text": [
      "Enter the number above 100:  5\n"
     ]
    }
   ],
   "source": [
    "number = int(input(\"Enter the number above 100: \"))"
   ]
  },
  {
   "cell_type": "code",
   "execution_count": null,
   "id": "7f4d4078-853e-4bf2-9302-31a9d6ddf142",
   "metadata": {},
   "outputs": [],
   "source": []
  }
 ],
 "metadata": {
  "kernelspec": {
   "display_name": "Python 3 (ipykernel)",
   "language": "python",
   "name": "python3"
  },
  "language_info": {
   "codemirror_mode": {
    "name": "ipython",
    "version": 3
   },
   "file_extension": ".py",
   "mimetype": "text/x-python",
   "name": "python",
   "nbconvert_exporter": "python",
   "pygments_lexer": "ipython3",
   "version": "3.12.2"
  }
 },
 "nbformat": 4,
 "nbformat_minor": 5
}
